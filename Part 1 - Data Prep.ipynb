{
 "cells": [
  {
   "cell_type": "markdown",
   "id": "6379984e",
   "metadata": {},
   "source": [
    "<h1 style=\"color:green; font-size:30px; font-weight:700; text-align:center\">\n",
    "    <u><b>Part 1: Data Prep</b></u>  \n",
    "</h1> \n",
    "\n",
    "<p></p> \n",
    "<strong> Author:</strong> Gurtej Bains <br> \n",
    "<strong> Data Source:</strong> https://www.imdb.com/interfaces/  <br> \n",
    "<strong> Last Updated: </strong>  <br>  \n",
    "<strong> Problem Statement:</strong> <br>\n",
    "\n",
    "\n"
   ]
  },
  {
   "cell_type": "markdown",
   "id": "4e7e4a51-f89f-42ac-8760-6410ccb82db8",
   "metadata": {
    "tags": []
   },
   "source": [
    "<h1 style=\"color:green\"><b>Importing Modules</b> </h1>"
   ]
  },
  {
   "cell_type": "markdown",
   "id": "6d575577",
   "metadata": {
    "heading_collapsed": true,
    "jp-MarkdownHeadingCollapsed": true,
    "tags": []
   },
   "source": [
    "## Import Libraries "
   ]
  },
  {
   "cell_type": "code",
   "execution_count": 4,
   "id": "7e5d529a",
   "metadata": {
    "hidden": true
   },
   "outputs": [],
   "source": [
    "# import libraries  \n",
    "\n",
    "# Numpy\n",
    "import numpy as np\n",
    "\n",
    "# Pandas\n",
    "import pandas as pd\n",
    "\n",
    "# MatPlotLib\n",
    "import matplotlib.pyplot as plt\n",
    "\n",
    "# Seaborn\n",
    "import seaborn as sns\n",
    "\n",
    "# MissingNo\n",
    "import missingno as msno\n",
    "\n",
    "# SQL related \n",
    "import pymysql\n",
    "pymysql.install_as_MySQLdb()\n",
    "from sqlalchemy import create_engine\n",
    "\n",
    "from pandasql import sqldf\n",
    "pysqldf = lambda q: sqldf(q, globals())\n",
    "\n",
    "# suppress warnings\n",
    "import warnings\n",
    "warnings.filterwarnings(\"ignore\")\n",
    "\n",
    "# for directory \n",
    "import os"
   ]
  },
  {
   "cell_type": "markdown",
   "id": "cd12ded6",
   "metadata": {
    "jp-MarkdownHeadingCollapsed": true,
    "tags": []
   },
   "source": [
    "<h1 style=\"color:green\"><b>AKA's Data</b> </h1>"
   ]
  },
  {
   "cell_type": "markdown",
   "id": "d40881ac",
   "metadata": {
    "heading_collapsed": true,
    "jp-MarkdownHeadingCollapsed": true,
    "tags": []
   },
   "source": [
    "## Import data "
   ]
  },
  {
   "cell_type": "code",
   "execution_count": 5,
   "id": "a32b1965",
   "metadata": {
    "hidden": true
   },
   "outputs": [
    {
     "name": "stdout",
     "output_type": "stream",
     "text": [
      "CPU times: total: 38.1 s\n",
      "Wall time: 39.8 s\n"
     ]
    },
    {
     "data": {
      "text/plain": [
       "(34960911, 8)"
      ]
     },
     "execution_count": 5,
     "metadata": {},
     "output_type": "execute_result"
    }
   ],
   "source": [
    "%%time \n",
    "akas = pd.read_csv(r\"C:\\Users\\gurte\\OneDrive\\All About Learning\\Coding Dojo\\Learning Material\\05 Projects\\Project 3\\data downloads\\title.akas.tsv.gz\", sep='\\t', low_memory=False)\n",
    "akas.shape"
   ]
  },
  {
   "cell_type": "code",
   "execution_count": 6,
   "id": "1d7092be",
   "metadata": {
    "hidden": true
   },
   "outputs": [
    {
     "data": {
      "text/html": [
       "<div>\n",
       "<style scoped>\n",
       "    .dataframe tbody tr th:only-of-type {\n",
       "        vertical-align: middle;\n",
       "    }\n",
       "\n",
       "    .dataframe tbody tr th {\n",
       "        vertical-align: top;\n",
       "    }\n",
       "\n",
       "    .dataframe thead th {\n",
       "        text-align: right;\n",
       "    }\n",
       "</style>\n",
       "<table border=\"1\" class=\"dataframe\">\n",
       "  <thead>\n",
       "    <tr style=\"text-align: right;\">\n",
       "      <th></th>\n",
       "      <th>titleId</th>\n",
       "      <th>ordering</th>\n",
       "      <th>title</th>\n",
       "      <th>region</th>\n",
       "      <th>language</th>\n",
       "      <th>types</th>\n",
       "      <th>attributes</th>\n",
       "      <th>isOriginalTitle</th>\n",
       "    </tr>\n",
       "  </thead>\n",
       "  <tbody>\n",
       "    <tr>\n",
       "      <th>0</th>\n",
       "      <td>tt0000001</td>\n",
       "      <td>1</td>\n",
       "      <td>Карменсіта</td>\n",
       "      <td>UA</td>\n",
       "      <td>\\N</td>\n",
       "      <td>imdbDisplay</td>\n",
       "      <td>\\N</td>\n",
       "      <td>0</td>\n",
       "    </tr>\n",
       "    <tr>\n",
       "      <th>1</th>\n",
       "      <td>tt0000001</td>\n",
       "      <td>2</td>\n",
       "      <td>Carmencita</td>\n",
       "      <td>DE</td>\n",
       "      <td>\\N</td>\n",
       "      <td>\\N</td>\n",
       "      <td>literal title</td>\n",
       "      <td>0</td>\n",
       "    </tr>\n",
       "    <tr>\n",
       "      <th>2</th>\n",
       "      <td>tt0000001</td>\n",
       "      <td>3</td>\n",
       "      <td>Carmencita - spanyol tánc</td>\n",
       "      <td>HU</td>\n",
       "      <td>\\N</td>\n",
       "      <td>imdbDisplay</td>\n",
       "      <td>\\N</td>\n",
       "      <td>0</td>\n",
       "    </tr>\n",
       "    <tr>\n",
       "      <th>3</th>\n",
       "      <td>tt0000001</td>\n",
       "      <td>4</td>\n",
       "      <td>Καρμενσίτα</td>\n",
       "      <td>GR</td>\n",
       "      <td>\\N</td>\n",
       "      <td>imdbDisplay</td>\n",
       "      <td>\\N</td>\n",
       "      <td>0</td>\n",
       "    </tr>\n",
       "    <tr>\n",
       "      <th>4</th>\n",
       "      <td>tt0000001</td>\n",
       "      <td>5</td>\n",
       "      <td>Карменсита</td>\n",
       "      <td>RU</td>\n",
       "      <td>\\N</td>\n",
       "      <td>imdbDisplay</td>\n",
       "      <td>\\N</td>\n",
       "      <td>0</td>\n",
       "    </tr>\n",
       "  </tbody>\n",
       "</table>\n",
       "</div>"
      ],
      "text/plain": [
       "     titleId  ordering                      title region language  \\\n",
       "0  tt0000001         1                 Карменсіта     UA       \\N   \n",
       "1  tt0000001         2                 Carmencita     DE       \\N   \n",
       "2  tt0000001         3  Carmencita - spanyol tánc     HU       \\N   \n",
       "3  tt0000001         4                 Καρμενσίτα     GR       \\N   \n",
       "4  tt0000001         5                 Карменсита     RU       \\N   \n",
       "\n",
       "         types     attributes isOriginalTitle  \n",
       "0  imdbDisplay             \\N               0  \n",
       "1           \\N  literal title               0  \n",
       "2  imdbDisplay             \\N               0  \n",
       "3  imdbDisplay             \\N               0  \n",
       "4  imdbDisplay             \\N               0  "
      ]
     },
     "execution_count": 6,
     "metadata": {},
     "output_type": "execute_result"
    }
   ],
   "source": [
    "akas.head()"
   ]
  },
  {
   "cell_type": "markdown",
   "id": "81499514",
   "metadata": {
    "tags": []
   },
   "source": [
    "## Cleaning the data"
   ]
  },
  {
   "cell_type": "markdown",
   "id": "1ac76247",
   "metadata": {
    "jp-MarkdownHeadingCollapsed": true,
    "tags": []
   },
   "source": [
    "### Column name standardization "
   ]
  },
  {
   "cell_type": "code",
   "execution_count": 7,
   "id": "6487d60b",
   "metadata": {},
   "outputs": [
    {
     "data": {
      "text/plain": [
       "['titleid',\n",
       " 'ordering',\n",
       " 'title',\n",
       " 'region',\n",
       " 'language',\n",
       " 'types',\n",
       " 'attributes',\n",
       " 'isoriginaltitle']"
      ]
     },
     "execution_count": 7,
     "metadata": {},
     "output_type": "execute_result"
    }
   ],
   "source": [
    "# making all column names lower case\n",
    "akas.columns= akas.columns.str.lower()\n",
    "akas.columns.tolist()"
   ]
  },
  {
   "cell_type": "markdown",
   "id": "32807ccf",
   "metadata": {
    "jp-MarkdownHeadingCollapsed": true,
    "tags": []
   },
   "source": [
    "### Only US movies"
   ]
  },
  {
   "cell_type": "code",
   "execution_count": 8,
   "id": "5c33746b",
   "metadata": {},
   "outputs": [
    {
     "data": {
      "text/plain": [
       "array(['UA', 'DE', 'HU', 'GR', 'RU', 'US', '\\\\N', 'JP', 'FR', 'RO', 'GB',\n",
       "       'CA', 'PT', 'AU', 'ES', 'FI', 'PL', 'AR', 'RS', 'UY', 'IT', 'BR',\n",
       "       'DK', 'TR', 'XWW', 'XEU', 'SK', 'CZ', 'SE', 'NZ', 'MX', 'NO',\n",
       "       'XYU', 'AT', 'VE', 'CSHH', 'SI', 'SUHH', 'IN', 'TW', 'LT', 'NL',\n",
       "       'CO', 'IR', 'BG', 'SG', 'BE', 'VN', 'HR', 'DZ', 'CH', 'BF', 'PH',\n",
       "       'XWG', 'HK', 'CN', 'XSA', 'EE', 'IS', 'PR', 'DDDE', 'IL', 'EG',\n",
       "       'XKO', 'CL', 'IE', 'JM', 'KR', 'PE', 'GE', 'BY', 'BA', 'AE', 'PA',\n",
       "       'TH', 'ZA', 'TJ', 'XSI', 'MY', 'LV', 'ID', 'PK', 'BD', 'CU', 'AL',\n",
       "       'BO', 'EC', 'XAS', 'CR', 'PY', 'DO', 'GT', 'SV', 'UZ', 'BUMM',\n",
       "       'YUCS', 'XPI', 'BJ', 'AZ', 'NG', 'CM', 'MA', 'GL', 'MN', 'LI',\n",
       "       'LU', 'MZ', 'BM', 'KZ', 'MD', 'LB', 'IQ', 'TM', 'MK', 'TN', 'HT',\n",
       "       'AM', 'LK', 'ME', 'CG', 'CI', 'SY', 'NP', 'QA', 'TO', 'SN', 'GH',\n",
       "       'JO', 'KP', 'KG', 'NE', 'GN', 'VDVN', 'TD', 'SO', 'SD', 'MC', 'TT',\n",
       "       'GA', 'BS', 'LY', 'AO', 'KH', 'MR', 'AF', 'MG', 'ML', 'GY', 'CY',\n",
       "       'ET', 'GU', 'SR', 'MT', 'TG', 'PG', 'MU', 'BI', 'CF', 'NI', 'ZW',\n",
       "       'ZM', 'GW', 'DJ', 'RW', 'TZ', 'GI', 'LA', 'SC', 'GP', 'XAU', 'FO',\n",
       "       'PS', 'ZRCD', 'MO', 'AW', 'KW', 'CV', 'SL', 'SM', 'CD', 'BT', 'LS',\n",
       "       'HN', 'KE', 'MQ', 'AD', 'ER', nan, 'MM', 'SA', 'CSXX', 'IM', 'XKV',\n",
       "       'BH', 'BB', 'BZ', 'UG', 'AG', 'NU', 'OM', 'BW', 'LR', 'AN', 'MV',\n",
       "       'YE', 'GM', 'KY', 'NC', 'DM', 'TL', 'MP', 'VA', 'GQ', 'FJ', 'SZ',\n",
       "       'RE', 'EH', 'PF', 'VG', 'LC', 'MW', 'BN', 'ST', 'KM', 'FM', 'AI',\n",
       "       'GD', 'VI', 'SB', 'GF', 'AQ', 'MH', 'CW', 'WS', 'VC', 'AS', 'XNA',\n",
       "       'MS', 'VU', 'SH', 'KI', 'KN', 'CC', 'GS', 'TV', 'CK', 'PW', 'NR',\n",
       "       'JE', 'TC'], dtype=object)"
      ]
     },
     "execution_count": 8,
     "metadata": {},
     "output_type": "execute_result"
    }
   ],
   "source": [
    "akas.region.unique()"
   ]
  },
  {
   "cell_type": "code",
   "execution_count": 9,
   "id": "6fcca004",
   "metadata": {},
   "outputs": [
    {
     "data": {
      "text/plain": [
       "(1415316, 8)"
      ]
     },
     "execution_count": 9,
     "metadata": {},
     "output_type": "execute_result"
    }
   ],
   "source": [
    "akas = akas[akas['region'].str.upper()=='US']\n",
    "akas.shape"
   ]
  },
  {
   "cell_type": "markdown",
   "id": "a3fe8777",
   "metadata": {
    "tags": []
   },
   "source": [
    "### Replace '\\n' values"
   ]
  },
  {
   "cell_type": "code",
   "execution_count": 10,
   "id": "fc3b5ea7",
   "metadata": {},
   "outputs": [
    {
     "data": {
      "text/plain": [
       "(1415316, 8)"
      ]
     },
     "execution_count": 10,
     "metadata": {},
     "output_type": "execute_result"
    }
   ],
   "source": [
    "akas = akas.replace({'\\\\N':np.nan})\n",
    "akas.shape"
   ]
  },
  {
   "cell_type": "markdown",
   "id": "96d15f37-cce6-4779-9317-2cc15ffb8efe",
   "metadata": {
    "jp-MarkdownHeadingCollapsed": true,
    "tags": []
   },
   "source": [
    "### Reset index"
   ]
  },
  {
   "cell_type": "code",
   "execution_count": 11,
   "id": "9cc0c4d6-5af6-42a9-9085-94fb6dc62ef6",
   "metadata": {},
   "outputs": [],
   "source": [
    "akas.reset_index(drop=True, inplace=True)"
   ]
  },
  {
   "cell_type": "markdown",
   "id": "673f79c3-a933-4b56-addb-62d0e2b98d7a",
   "metadata": {
    "jp-MarkdownHeadingCollapsed": true,
    "tags": []
   },
   "source": [
    "## QA "
   ]
  },
  {
   "cell_type": "code",
   "execution_count": 12,
   "id": "ae5a05a9-5857-4d9f-ba3c-101ed8f12bfa",
   "metadata": {},
   "outputs": [
    {
     "name": "stdout",
     "output_type": "stream",
     "text": [
      "<class 'pandas.core.frame.DataFrame'>\n",
      "RangeIndex: 1415316 entries, 0 to 1415315\n",
      "Data columns (total 8 columns):\n",
      " #   Column           Non-Null Count    Dtype \n",
      "---  ------           --------------    ----- \n",
      " 0   titleid          1415316 non-null  object\n",
      " 1   ordering         1415316 non-null  int64 \n",
      " 2   title            1415316 non-null  object\n",
      " 3   region           1415316 non-null  object\n",
      " 4   language         3824 non-null     object\n",
      " 5   types            973760 non-null   object\n",
      " 6   attributes       45982 non-null    object\n",
      " 7   isoriginaltitle  1413971 non-null  object\n",
      "dtypes: int64(1), object(7)\n",
      "memory usage: 86.4+ MB\n"
     ]
    }
   ],
   "source": [
    "akas.info()"
   ]
  },
  {
   "cell_type": "code",
   "execution_count": 13,
   "id": "845322db-8253-46d5-8da9-a0711dd00aac",
   "metadata": {},
   "outputs": [
    {
     "data": {
      "text/html": [
       "<div>\n",
       "<style scoped>\n",
       "    .dataframe tbody tr th:only-of-type {\n",
       "        vertical-align: middle;\n",
       "    }\n",
       "\n",
       "    .dataframe tbody tr th {\n",
       "        vertical-align: top;\n",
       "    }\n",
       "\n",
       "    .dataframe thead th {\n",
       "        text-align: right;\n",
       "    }\n",
       "</style>\n",
       "<table border=\"1\" class=\"dataframe\">\n",
       "  <thead>\n",
       "    <tr style=\"text-align: right;\">\n",
       "      <th></th>\n",
       "      <th>titleid</th>\n",
       "      <th>ordering</th>\n",
       "      <th>title</th>\n",
       "      <th>region</th>\n",
       "      <th>language</th>\n",
       "      <th>types</th>\n",
       "      <th>attributes</th>\n",
       "      <th>isoriginaltitle</th>\n",
       "    </tr>\n",
       "  </thead>\n",
       "  <tbody>\n",
       "    <tr>\n",
       "      <th>0</th>\n",
       "      <td>tt0000001</td>\n",
       "      <td>6</td>\n",
       "      <td>Carmencita</td>\n",
       "      <td>US</td>\n",
       "      <td>NaN</td>\n",
       "      <td>imdbDisplay</td>\n",
       "      <td>NaN</td>\n",
       "      <td>0</td>\n",
       "    </tr>\n",
       "    <tr>\n",
       "      <th>1</th>\n",
       "      <td>tt0000002</td>\n",
       "      <td>7</td>\n",
       "      <td>The Clown and His Dogs</td>\n",
       "      <td>US</td>\n",
       "      <td>NaN</td>\n",
       "      <td>NaN</td>\n",
       "      <td>literal English title</td>\n",
       "      <td>0</td>\n",
       "    </tr>\n",
       "    <tr>\n",
       "      <th>2</th>\n",
       "      <td>tt0000005</td>\n",
       "      <td>10</td>\n",
       "      <td>Blacksmith Scene</td>\n",
       "      <td>US</td>\n",
       "      <td>NaN</td>\n",
       "      <td>imdbDisplay</td>\n",
       "      <td>NaN</td>\n",
       "      <td>0</td>\n",
       "    </tr>\n",
       "    <tr>\n",
       "      <th>3</th>\n",
       "      <td>tt0000005</td>\n",
       "      <td>1</td>\n",
       "      <td>Blacksmithing Scene</td>\n",
       "      <td>US</td>\n",
       "      <td>NaN</td>\n",
       "      <td>alternative</td>\n",
       "      <td>NaN</td>\n",
       "      <td>0</td>\n",
       "    </tr>\n",
       "    <tr>\n",
       "      <th>4</th>\n",
       "      <td>tt0000005</td>\n",
       "      <td>6</td>\n",
       "      <td>Blacksmith Scene #1</td>\n",
       "      <td>US</td>\n",
       "      <td>NaN</td>\n",
       "      <td>alternative</td>\n",
       "      <td>NaN</td>\n",
       "      <td>0</td>\n",
       "    </tr>\n",
       "  </tbody>\n",
       "</table>\n",
       "</div>"
      ],
      "text/plain": [
       "     titleid  ordering                   title region language        types  \\\n",
       "0  tt0000001         6              Carmencita     US      NaN  imdbDisplay   \n",
       "1  tt0000002         7  The Clown and His Dogs     US      NaN          NaN   \n",
       "2  tt0000005        10        Blacksmith Scene     US      NaN  imdbDisplay   \n",
       "3  tt0000005         1     Blacksmithing Scene     US      NaN  alternative   \n",
       "4  tt0000005         6     Blacksmith Scene #1     US      NaN  alternative   \n",
       "\n",
       "              attributes isoriginaltitle  \n",
       "0                    NaN               0  \n",
       "1  literal English title               0  \n",
       "2                    NaN               0  \n",
       "3                    NaN               0  \n",
       "4                    NaN               0  "
      ]
     },
     "execution_count": 13,
     "metadata": {},
     "output_type": "execute_result"
    }
   ],
   "source": [
    "akas.head()"
   ]
  },
  {
   "cell_type": "markdown",
   "id": "1741c152",
   "metadata": {
    "tags": []
   },
   "source": [
    "<h1 style=\"color:green\"><b>Basics Data</b> </h1>"
   ]
  },
  {
   "cell_type": "markdown",
   "id": "397d2d2e",
   "metadata": {
    "tags": []
   },
   "source": [
    "## Import data"
   ]
  },
  {
   "cell_type": "code",
   "execution_count": 14,
   "id": "d42fb58f",
   "metadata": {},
   "outputs": [
    {
     "name": "stdout",
     "output_type": "stream",
     "text": [
      "CPU times: total: 20 s\n",
      "Wall time: 20.7 s\n"
     ]
    },
    {
     "data": {
      "text/plain": [
       "(9624113, 9)"
      ]
     },
     "execution_count": 14,
     "metadata": {},
     "output_type": "execute_result"
    }
   ],
   "source": [
    "%%time \n",
    "basics = pd.read_csv(r\"C:\\Users\\gurte\\OneDrive\\All About Learning\\Coding Dojo\\Learning Material\\05 Projects\\Project 3\\data downloads\\title.basics.tsv.gz\", sep='\\t', low_memory=False)\n",
    "basics.shape"
   ]
  },
  {
   "cell_type": "code",
   "execution_count": 15,
   "id": "3fb35bb0",
   "metadata": {},
   "outputs": [
    {
     "data": {
      "text/html": [
       "<div>\n",
       "<style scoped>\n",
       "    .dataframe tbody tr th:only-of-type {\n",
       "        vertical-align: middle;\n",
       "    }\n",
       "\n",
       "    .dataframe tbody tr th {\n",
       "        vertical-align: top;\n",
       "    }\n",
       "\n",
       "    .dataframe thead th {\n",
       "        text-align: right;\n",
       "    }\n",
       "</style>\n",
       "<table border=\"1\" class=\"dataframe\">\n",
       "  <thead>\n",
       "    <tr style=\"text-align: right;\">\n",
       "      <th></th>\n",
       "      <th>tconst</th>\n",
       "      <th>titleType</th>\n",
       "      <th>primaryTitle</th>\n",
       "      <th>originalTitle</th>\n",
       "      <th>isAdult</th>\n",
       "      <th>startYear</th>\n",
       "      <th>endYear</th>\n",
       "      <th>runtimeMinutes</th>\n",
       "      <th>genres</th>\n",
       "    </tr>\n",
       "  </thead>\n",
       "  <tbody>\n",
       "    <tr>\n",
       "      <th>0</th>\n",
       "      <td>tt0000001</td>\n",
       "      <td>short</td>\n",
       "      <td>Carmencita</td>\n",
       "      <td>Carmencita</td>\n",
       "      <td>0</td>\n",
       "      <td>1894</td>\n",
       "      <td>\\N</td>\n",
       "      <td>1</td>\n",
       "      <td>Documentary,Short</td>\n",
       "    </tr>\n",
       "    <tr>\n",
       "      <th>1</th>\n",
       "      <td>tt0000002</td>\n",
       "      <td>short</td>\n",
       "      <td>Le clown et ses chiens</td>\n",
       "      <td>Le clown et ses chiens</td>\n",
       "      <td>0</td>\n",
       "      <td>1892</td>\n",
       "      <td>\\N</td>\n",
       "      <td>5</td>\n",
       "      <td>Animation,Short</td>\n",
       "    </tr>\n",
       "    <tr>\n",
       "      <th>2</th>\n",
       "      <td>tt0000003</td>\n",
       "      <td>short</td>\n",
       "      <td>Pauvre Pierrot</td>\n",
       "      <td>Pauvre Pierrot</td>\n",
       "      <td>0</td>\n",
       "      <td>1892</td>\n",
       "      <td>\\N</td>\n",
       "      <td>4</td>\n",
       "      <td>Animation,Comedy,Romance</td>\n",
       "    </tr>\n",
       "    <tr>\n",
       "      <th>3</th>\n",
       "      <td>tt0000004</td>\n",
       "      <td>short</td>\n",
       "      <td>Un bon bock</td>\n",
       "      <td>Un bon bock</td>\n",
       "      <td>0</td>\n",
       "      <td>1892</td>\n",
       "      <td>\\N</td>\n",
       "      <td>12</td>\n",
       "      <td>Animation,Short</td>\n",
       "    </tr>\n",
       "    <tr>\n",
       "      <th>4</th>\n",
       "      <td>tt0000005</td>\n",
       "      <td>short</td>\n",
       "      <td>Blacksmith Scene</td>\n",
       "      <td>Blacksmith Scene</td>\n",
       "      <td>0</td>\n",
       "      <td>1893</td>\n",
       "      <td>\\N</td>\n",
       "      <td>1</td>\n",
       "      <td>Comedy,Short</td>\n",
       "    </tr>\n",
       "  </tbody>\n",
       "</table>\n",
       "</div>"
      ],
      "text/plain": [
       "      tconst titleType            primaryTitle           originalTitle  \\\n",
       "0  tt0000001     short              Carmencita              Carmencita   \n",
       "1  tt0000002     short  Le clown et ses chiens  Le clown et ses chiens   \n",
       "2  tt0000003     short          Pauvre Pierrot          Pauvre Pierrot   \n",
       "3  tt0000004     short             Un bon bock             Un bon bock   \n",
       "4  tt0000005     short        Blacksmith Scene        Blacksmith Scene   \n",
       "\n",
       "  isAdult startYear endYear runtimeMinutes                    genres  \n",
       "0       0      1894      \\N              1         Documentary,Short  \n",
       "1       0      1892      \\N              5           Animation,Short  \n",
       "2       0      1892      \\N              4  Animation,Comedy,Romance  \n",
       "3       0      1892      \\N             12           Animation,Short  \n",
       "4       0      1893      \\N              1              Comedy,Short  "
      ]
     },
     "execution_count": 15,
     "metadata": {},
     "output_type": "execute_result"
    }
   ],
   "source": [
    "basics.head()"
   ]
  },
  {
   "cell_type": "markdown",
   "id": "78dca1b8",
   "metadata": {
    "tags": []
   },
   "source": [
    "## Cleaning the data"
   ]
  },
  {
   "cell_type": "markdown",
   "id": "6ca9ed67",
   "metadata": {
    "jp-MarkdownHeadingCollapsed": true,
    "tags": []
   },
   "source": [
    "### Column name standardization"
   ]
  },
  {
   "cell_type": "code",
   "execution_count": 16,
   "id": "db619a42",
   "metadata": {},
   "outputs": [
    {
     "data": {
      "text/plain": [
       "['tconst',\n",
       " 'titletype',\n",
       " 'primarytitle',\n",
       " 'originaltitle',\n",
       " 'isadult',\n",
       " 'startyear',\n",
       " 'endyear',\n",
       " 'runtimeminutes',\n",
       " 'genres']"
      ]
     },
     "execution_count": 16,
     "metadata": {},
     "output_type": "execute_result"
    }
   ],
   "source": [
    "# making all column names lower case\n",
    "basics.columns= basics.columns.str.lower()\n",
    "basics.columns.tolist()"
   ]
  },
  {
   "cell_type": "markdown",
   "id": "8a230305",
   "metadata": {
    "jp-MarkdownHeadingCollapsed": true,
    "tags": []
   },
   "source": [
    "### Replace '\\n' values"
   ]
  },
  {
   "cell_type": "code",
   "execution_count": 17,
   "id": "101663b1",
   "metadata": {},
   "outputs": [
    {
     "data": {
      "text/plain": [
       "(9624113, 9)"
      ]
     },
     "execution_count": 17,
     "metadata": {},
     "output_type": "execute_result"
    }
   ],
   "source": [
    "basics = basics.replace({'\\\\N':np.nan})\n",
    "basics.shape"
   ]
  },
  {
   "cell_type": "markdown",
   "id": "99820c60",
   "metadata": {
    "jp-MarkdownHeadingCollapsed": true,
    "tags": []
   },
   "source": [
    "### Remove Null values in runtimeminutes column"
   ]
  },
  {
   "cell_type": "code",
   "execution_count": 18,
   "id": "a371aea1",
   "metadata": {},
   "outputs": [
    {
     "data": {
      "text/plain": [
       "(2816690, 9)"
      ]
     },
     "execution_count": 18,
     "metadata": {},
     "output_type": "execute_result"
    }
   ],
   "source": [
    "basics = basics[basics['runtimeminutes'].notna()] \n",
    "basics.shape"
   ]
  },
  {
   "cell_type": "markdown",
   "id": "5a8abd5b",
   "metadata": {
    "heading_collapsed": true,
    "jp-MarkdownHeadingCollapsed": true,
    "tags": []
   },
   "source": [
    "### Remove Null for Genre"
   ]
  },
  {
   "cell_type": "code",
   "execution_count": 19,
   "id": "a602e6f8",
   "metadata": {
    "hidden": true
   },
   "outputs": [
    {
     "data": {
      "text/plain": [
       "(2741126, 9)"
      ]
     },
     "execution_count": 19,
     "metadata": {},
     "output_type": "execute_result"
    }
   ],
   "source": [
    "basics = basics[basics['genres'].notna()] \n",
    "basics.shape"
   ]
  },
  {
   "cell_type": "markdown",
   "id": "bddd4923",
   "metadata": {
    "heading_collapsed": true,
    "jp-MarkdownHeadingCollapsed": true,
    "tags": []
   },
   "source": [
    "### Type 'Movie'"
   ]
  },
  {
   "cell_type": "code",
   "execution_count": 20,
   "id": "65e72800",
   "metadata": {
    "hidden": true
   },
   "outputs": [
    {
     "data": {
      "text/plain": [
       "(377398, 9)"
      ]
     },
     "execution_count": 20,
     "metadata": {},
     "output_type": "execute_result"
    }
   ],
   "source": [
    "basics = basics[basics['titletype'].str.lower()=='movie']\n",
    "basics.shape"
   ]
  },
  {
   "cell_type": "markdown",
   "id": "715f34d3",
   "metadata": {
    "heading_collapsed": true,
    "tags": []
   },
   "source": [
    "### Start year 2000-2022"
   ]
  },
  {
   "cell_type": "code",
   "execution_count": 21,
   "id": "7f915f6f",
   "metadata": {
    "hidden": true
   },
   "outputs": [
    {
     "data": {
      "text/plain": [
       "array(['1894', '1897', '1906', '1907', '1908', '1909', '1910', '1911',\n",
       "       '1913', '1912', '1919', '1914', '1915', '1936', '1916', '1917',\n",
       "       '1925', '1918', '1920', '1921', '1924', '1923', '1922', '2021',\n",
       "       '1927', '1929', '1926', '1993', '1935', '1928', '1942', '1930',\n",
       "       '1932', '1931', '1937', '1933', '1950', '1938', '1951', '1939',\n",
       "       '1934', '1946', '1940', '1944', '1947', '1941', '1952', '1970',\n",
       "       '1957', '1943', '1948', '2001', '1945', '1953', '1954', '1965',\n",
       "       '1983', '1949', '1980', '1973', '1961', '1955', '1962', '1958',\n",
       "       '1956', '1977', '1964', '1960', '1959', '1967', '1968', '1963',\n",
       "       '1971', '1969', '1966', '1976', '1990', '1972', '1979', '1981',\n",
       "       '2020', '1975', '1978', '1989', '1974', '1986', '1995', '1987',\n",
       "       '1985', '2018', '1984', '1982', '1988', '1991', '2022', nan,\n",
       "       '1994', '2005', '1992', '2004', '1998', '2002', '1997', '2009',\n",
       "       '1996', '2017', '2000', '2006', '1999', '2008', '2007', '2003',\n",
       "       '1903', '2012', '2010', '2013', '2019', '2011', '1904', '1899',\n",
       "       '1900', '2015', '1905', '2016', '2014', '2023', '2024', '1896',\n",
       "       '2025', '2029'], dtype=object)"
      ]
     },
     "execution_count": 21,
     "metadata": {},
     "output_type": "execute_result"
    }
   ],
   "source": [
    "basics.startyear.unique()"
   ]
  },
  {
   "cell_type": "code",
   "execution_count": 22,
   "id": "b4fff21d",
   "metadata": {
    "hidden": true
   },
   "outputs": [
    {
     "data": {
      "text/plain": [
       "dtype('O')"
      ]
     },
     "execution_count": 22,
     "metadata": {},
     "output_type": "execute_result"
    }
   ],
   "source": [
    "basics['startyear'].dtypes"
   ]
  },
  {
   "cell_type": "code",
   "execution_count": 23,
   "id": "b4c75adc",
   "metadata": {
    "hidden": true
   },
   "outputs": [
    {
     "data": {
      "text/plain": [
       "(221622, 9)"
      ]
     },
     "execution_count": 23,
     "metadata": {},
     "output_type": "execute_result"
    }
   ],
   "source": [
    "basics = basics[basics['startyear'].isin(['2000', '2001', '2002', '2003', '2004', '2005', '2006', '2007', '2008', '2009', '2010', \n",
    "                                       '2011', '2012', '2013', '2014', '2015', '2016', '2017', '2018', '2019', '2020', '2021', '2022'])]\n",
    "basics.shape"
   ]
  },
  {
   "cell_type": "markdown",
   "id": "94c62d14",
   "metadata": {
    "tags": []
   },
   "source": [
    "### Remove documentary"
   ]
  },
  {
   "cell_type": "code",
   "execution_count": 24,
   "id": "1e3dc188",
   "metadata": {},
   "outputs": [
    {
     "data": {
      "text/plain": [
       "(146545, 9)"
      ]
     },
     "execution_count": 24,
     "metadata": {},
     "output_type": "execute_result"
    }
   ],
   "source": [
    "basics = basics[~basics['genres'].str.contains('documentary',case=False)]\n",
    "\n",
    "basics.shape"
   ]
  },
  {
   "cell_type": "markdown",
   "id": "8032b5ab",
   "metadata": {
    "tags": []
   },
   "source": [
    "### Filter only US movies"
   ]
  },
  {
   "cell_type": "code",
   "execution_count": 25,
   "id": "3d555f39",
   "metadata": {},
   "outputs": [
    {
     "data": {
      "text/plain": [
       "(85498, 9)"
      ]
     },
     "execution_count": 25,
     "metadata": {},
     "output_type": "execute_result"
    }
   ],
   "source": [
    "basics = basics[basics['tconst'].isin(akas['titleid'])]\n",
    "basics.shape"
   ]
  },
  {
   "cell_type": "markdown",
   "id": "198828a1-ae55-4cdc-8d0d-47ec802780ae",
   "metadata": {},
   "source": [
    "### Reset index"
   ]
  },
  {
   "cell_type": "code",
   "execution_count": 26,
   "id": "4e792232-8048-4bf5-940b-aa897e7dc199",
   "metadata": {},
   "outputs": [],
   "source": [
    "basics.reset_index(drop=True, inplace=True)"
   ]
  },
  {
   "cell_type": "markdown",
   "id": "511a5a4e-e8a9-4cdd-8c9f-b05a8c833847",
   "metadata": {
    "tags": []
   },
   "source": [
    "## QA"
   ]
  },
  {
   "cell_type": "code",
   "execution_count": 27,
   "id": "e806949f-aec6-4931-8106-862010c9c869",
   "metadata": {},
   "outputs": [
    {
     "name": "stdout",
     "output_type": "stream",
     "text": [
      "<class 'pandas.core.frame.DataFrame'>\n",
      "RangeIndex: 85498 entries, 0 to 85497\n",
      "Data columns (total 9 columns):\n",
      " #   Column          Non-Null Count  Dtype \n",
      "---  ------          --------------  ----- \n",
      " 0   tconst          85498 non-null  object\n",
      " 1   titletype       85498 non-null  object\n",
      " 2   primarytitle    85498 non-null  object\n",
      " 3   originaltitle   85498 non-null  object\n",
      " 4   isadult         85498 non-null  object\n",
      " 5   startyear       85498 non-null  object\n",
      " 6   endyear         0 non-null      object\n",
      " 7   runtimeminutes  85498 non-null  object\n",
      " 8   genres          85498 non-null  object\n",
      "dtypes: object(9)\n",
      "memory usage: 5.9+ MB\n"
     ]
    }
   ],
   "source": [
    "basics.info()"
   ]
  },
  {
   "cell_type": "code",
   "execution_count": 28,
   "id": "8be17002-f7d0-4a4c-8b4c-1a31692c78b4",
   "metadata": {},
   "outputs": [
    {
     "data": {
      "text/html": [
       "<div>\n",
       "<style scoped>\n",
       "    .dataframe tbody tr th:only-of-type {\n",
       "        vertical-align: middle;\n",
       "    }\n",
       "\n",
       "    .dataframe tbody tr th {\n",
       "        vertical-align: top;\n",
       "    }\n",
       "\n",
       "    .dataframe thead th {\n",
       "        text-align: right;\n",
       "    }\n",
       "</style>\n",
       "<table border=\"1\" class=\"dataframe\">\n",
       "  <thead>\n",
       "    <tr style=\"text-align: right;\">\n",
       "      <th></th>\n",
       "      <th>tconst</th>\n",
       "      <th>titletype</th>\n",
       "      <th>primarytitle</th>\n",
       "      <th>originaltitle</th>\n",
       "      <th>isadult</th>\n",
       "      <th>startyear</th>\n",
       "      <th>endyear</th>\n",
       "      <th>runtimeminutes</th>\n",
       "      <th>genres</th>\n",
       "    </tr>\n",
       "  </thead>\n",
       "  <tbody>\n",
       "    <tr>\n",
       "      <th>0</th>\n",
       "      <td>tt0035423</td>\n",
       "      <td>movie</td>\n",
       "      <td>Kate &amp; Leopold</td>\n",
       "      <td>Kate &amp; Leopold</td>\n",
       "      <td>0</td>\n",
       "      <td>2001</td>\n",
       "      <td>NaN</td>\n",
       "      <td>118</td>\n",
       "      <td>Comedy,Fantasy,Romance</td>\n",
       "    </tr>\n",
       "    <tr>\n",
       "      <th>1</th>\n",
       "      <td>tt0062336</td>\n",
       "      <td>movie</td>\n",
       "      <td>The Tango of the Widower and Its Distorting Mi...</td>\n",
       "      <td>El tango del viudo y su espejo deformante</td>\n",
       "      <td>0</td>\n",
       "      <td>2020</td>\n",
       "      <td>NaN</td>\n",
       "      <td>70</td>\n",
       "      <td>Drama</td>\n",
       "    </tr>\n",
       "    <tr>\n",
       "      <th>2</th>\n",
       "      <td>tt0069049</td>\n",
       "      <td>movie</td>\n",
       "      <td>The Other Side of the Wind</td>\n",
       "      <td>The Other Side of the Wind</td>\n",
       "      <td>0</td>\n",
       "      <td>2018</td>\n",
       "      <td>NaN</td>\n",
       "      <td>122</td>\n",
       "      <td>Drama</td>\n",
       "    </tr>\n",
       "    <tr>\n",
       "      <th>3</th>\n",
       "      <td>tt0088751</td>\n",
       "      <td>movie</td>\n",
       "      <td>The Naked Monster</td>\n",
       "      <td>The Naked Monster</td>\n",
       "      <td>0</td>\n",
       "      <td>2005</td>\n",
       "      <td>NaN</td>\n",
       "      <td>100</td>\n",
       "      <td>Comedy,Horror,Sci-Fi</td>\n",
       "    </tr>\n",
       "    <tr>\n",
       "      <th>4</th>\n",
       "      <td>tt0096056</td>\n",
       "      <td>movie</td>\n",
       "      <td>Crime and Punishment</td>\n",
       "      <td>Crime and Punishment</td>\n",
       "      <td>0</td>\n",
       "      <td>2002</td>\n",
       "      <td>NaN</td>\n",
       "      <td>126</td>\n",
       "      <td>Drama</td>\n",
       "    </tr>\n",
       "  </tbody>\n",
       "</table>\n",
       "</div>"
      ],
      "text/plain": [
       "      tconst titletype                                       primarytitle  \\\n",
       "0  tt0035423     movie                                     Kate & Leopold   \n",
       "1  tt0062336     movie  The Tango of the Widower and Its Distorting Mi...   \n",
       "2  tt0069049     movie                         The Other Side of the Wind   \n",
       "3  tt0088751     movie                                  The Naked Monster   \n",
       "4  tt0096056     movie                               Crime and Punishment   \n",
       "\n",
       "                               originaltitle isadult startyear endyear  \\\n",
       "0                             Kate & Leopold       0      2001     NaN   \n",
       "1  El tango del viudo y su espejo deformante       0      2020     NaN   \n",
       "2                 The Other Side of the Wind       0      2018     NaN   \n",
       "3                          The Naked Monster       0      2005     NaN   \n",
       "4                       Crime and Punishment       0      2002     NaN   \n",
       "\n",
       "  runtimeminutes                  genres  \n",
       "0            118  Comedy,Fantasy,Romance  \n",
       "1             70                   Drama  \n",
       "2            122                   Drama  \n",
       "3            100    Comedy,Horror,Sci-Fi  \n",
       "4            126                   Drama  "
      ]
     },
     "execution_count": 28,
     "metadata": {},
     "output_type": "execute_result"
    }
   ],
   "source": [
    "basics.head()"
   ]
  },
  {
   "cell_type": "markdown",
   "id": "6332f798-9aea-4022-b9cd-bc184456c22d",
   "metadata": {
    "jp-MarkdownHeadingCollapsed": true,
    "tags": []
   },
   "source": [
    "<h1 style=\"color:green\"><b>Ratings Data</b> </h1>"
   ]
  },
  {
   "cell_type": "markdown",
   "id": "3c8221e0-de78-4fe0-ae77-9313fa1599b8",
   "metadata": {
    "jp-MarkdownHeadingCollapsed": true,
    "tags": []
   },
   "source": [
    "## Import data"
   ]
  },
  {
   "cell_type": "code",
   "execution_count": 29,
   "id": "97c78798-d7cf-45a3-be5b-77ab2557d4fc",
   "metadata": {},
   "outputs": [
    {
     "name": "stdout",
     "output_type": "stream",
     "text": [
      "CPU times: total: 594 ms\n",
      "Wall time: 682 ms\n"
     ]
    },
    {
     "data": {
      "text/plain": [
       "(1280582, 3)"
      ]
     },
     "execution_count": 29,
     "metadata": {},
     "output_type": "execute_result"
    }
   ],
   "source": [
    "%%time \n",
    "ratings = pd.read_csv(r\"C:\\Users\\gurte\\OneDrive\\All About Learning\\Coding Dojo\\Learning Material\\05 Projects\\Project 3\\data downloads\\title.ratings.tsv.gz\", sep='\\t', low_memory=False)\n",
    "ratings.shape"
   ]
  },
  {
   "cell_type": "code",
   "execution_count": 30,
   "id": "96eb74c5-6686-4a38-9cac-99363fac5dbf",
   "metadata": {},
   "outputs": [
    {
     "data": {
      "text/html": [
       "<div>\n",
       "<style scoped>\n",
       "    .dataframe tbody tr th:only-of-type {\n",
       "        vertical-align: middle;\n",
       "    }\n",
       "\n",
       "    .dataframe tbody tr th {\n",
       "        vertical-align: top;\n",
       "    }\n",
       "\n",
       "    .dataframe thead th {\n",
       "        text-align: right;\n",
       "    }\n",
       "</style>\n",
       "<table border=\"1\" class=\"dataframe\">\n",
       "  <thead>\n",
       "    <tr style=\"text-align: right;\">\n",
       "      <th></th>\n",
       "      <th>tconst</th>\n",
       "      <th>averageRating</th>\n",
       "      <th>numVotes</th>\n",
       "    </tr>\n",
       "  </thead>\n",
       "  <tbody>\n",
       "    <tr>\n",
       "      <th>0</th>\n",
       "      <td>tt0000001</td>\n",
       "      <td>5.7</td>\n",
       "      <td>1953</td>\n",
       "    </tr>\n",
       "    <tr>\n",
       "      <th>1</th>\n",
       "      <td>tt0000002</td>\n",
       "      <td>5.8</td>\n",
       "      <td>264</td>\n",
       "    </tr>\n",
       "    <tr>\n",
       "      <th>2</th>\n",
       "      <td>tt0000003</td>\n",
       "      <td>6.5</td>\n",
       "      <td>1786</td>\n",
       "    </tr>\n",
       "    <tr>\n",
       "      <th>3</th>\n",
       "      <td>tt0000004</td>\n",
       "      <td>5.6</td>\n",
       "      <td>179</td>\n",
       "    </tr>\n",
       "    <tr>\n",
       "      <th>4</th>\n",
       "      <td>tt0000005</td>\n",
       "      <td>6.2</td>\n",
       "      <td>2587</td>\n",
       "    </tr>\n",
       "  </tbody>\n",
       "</table>\n",
       "</div>"
      ],
      "text/plain": [
       "      tconst  averageRating  numVotes\n",
       "0  tt0000001            5.7      1953\n",
       "1  tt0000002            5.8       264\n",
       "2  tt0000003            6.5      1786\n",
       "3  tt0000004            5.6       179\n",
       "4  tt0000005            6.2      2587"
      ]
     },
     "execution_count": 30,
     "metadata": {},
     "output_type": "execute_result"
    }
   ],
   "source": [
    "ratings.head()"
   ]
  },
  {
   "cell_type": "markdown",
   "id": "ff06de74-71de-4031-9d98-fd588d39b744",
   "metadata": {
    "tags": []
   },
   "source": [
    "## Cleaning the data"
   ]
  },
  {
   "cell_type": "markdown",
   "id": "96a6185f-d80c-4ac7-9da3-d36b81aabacf",
   "metadata": {
    "jp-MarkdownHeadingCollapsed": true,
    "tags": []
   },
   "source": [
    "### Column name standardization "
   ]
  },
  {
   "cell_type": "code",
   "execution_count": 31,
   "id": "a5b3e39b-7ee7-4ba2-b643-5ddb06882d25",
   "metadata": {},
   "outputs": [
    {
     "data": {
      "text/plain": [
       "['tconst', 'averagerating', 'numvotes']"
      ]
     },
     "execution_count": 31,
     "metadata": {},
     "output_type": "execute_result"
    }
   ],
   "source": [
    "# making all column names lower case\n",
    "ratings.columns= ratings.columns.str.lower()\n",
    "ratings.columns.tolist()"
   ]
  },
  {
   "cell_type": "markdown",
   "id": "3f29db2c-434c-4536-b5b9-70ab819a2e6e",
   "metadata": {
    "jp-MarkdownHeadingCollapsed": true,
    "tags": []
   },
   "source": [
    "### Replace '\\n' values"
   ]
  },
  {
   "cell_type": "code",
   "execution_count": 32,
   "id": "52f88b02-8f95-472a-aa61-a12a6fca9d7e",
   "metadata": {},
   "outputs": [
    {
     "data": {
      "text/plain": [
       "(1280582, 3)"
      ]
     },
     "execution_count": 32,
     "metadata": {},
     "output_type": "execute_result"
    }
   ],
   "source": [
    "ratings = ratings.replace({'\\\\N':np.nan})\n",
    "ratings.shape"
   ]
  },
  {
   "cell_type": "markdown",
   "id": "b8fe6420-5321-4f8b-be00-b730653c46da",
   "metadata": {
    "jp-MarkdownHeadingCollapsed": true,
    "tags": []
   },
   "source": [
    "### Filter only US movies"
   ]
  },
  {
   "cell_type": "code",
   "execution_count": 33,
   "id": "930b59c0-67b6-4760-903d-52c1dbc163ad",
   "metadata": {},
   "outputs": [
    {
     "data": {
      "text/plain": [
       "(489321, 3)"
      ]
     },
     "execution_count": 33,
     "metadata": {},
     "output_type": "execute_result"
    }
   ],
   "source": [
    "ratings = ratings[ratings['tconst'].isin(akas['titleid'])]\n",
    "ratings.shape"
   ]
  },
  {
   "cell_type": "markdown",
   "id": "d787ccda-bdb0-443d-a86a-542231bc097a",
   "metadata": {
    "tags": []
   },
   "source": [
    "### Reset index"
   ]
  },
  {
   "cell_type": "code",
   "execution_count": 34,
   "id": "2cd635cd-4bfe-47fb-afa3-202d2b916ea3",
   "metadata": {},
   "outputs": [],
   "source": [
    "ratings.reset_index(drop=True, inplace=True)"
   ]
  },
  {
   "cell_type": "markdown",
   "id": "2d916cab-eaf3-4baa-bcd7-891ead73800d",
   "metadata": {
    "tags": []
   },
   "source": [
    "## QA"
   ]
  },
  {
   "cell_type": "code",
   "execution_count": 35,
   "id": "100e231a-1741-4b4d-b683-fbe765000b2e",
   "metadata": {},
   "outputs": [
    {
     "name": "stdout",
     "output_type": "stream",
     "text": [
      "<class 'pandas.core.frame.DataFrame'>\n",
      "RangeIndex: 489321 entries, 0 to 489320\n",
      "Data columns (total 3 columns):\n",
      " #   Column         Non-Null Count   Dtype  \n",
      "---  ------         --------------   -----  \n",
      " 0   tconst         489321 non-null  object \n",
      " 1   averagerating  489321 non-null  float64\n",
      " 2   numvotes       489321 non-null  int64  \n",
      "dtypes: float64(1), int64(1), object(1)\n",
      "memory usage: 11.2+ MB\n"
     ]
    }
   ],
   "source": [
    "ratings.info()"
   ]
  },
  {
   "cell_type": "code",
   "execution_count": 36,
   "id": "613345a0-8520-4fe5-96c6-b514ad48e8fc",
   "metadata": {},
   "outputs": [
    {
     "data": {
      "text/html": [
       "<div>\n",
       "<style scoped>\n",
       "    .dataframe tbody tr th:only-of-type {\n",
       "        vertical-align: middle;\n",
       "    }\n",
       "\n",
       "    .dataframe tbody tr th {\n",
       "        vertical-align: top;\n",
       "    }\n",
       "\n",
       "    .dataframe thead th {\n",
       "        text-align: right;\n",
       "    }\n",
       "</style>\n",
       "<table border=\"1\" class=\"dataframe\">\n",
       "  <thead>\n",
       "    <tr style=\"text-align: right;\">\n",
       "      <th></th>\n",
       "      <th>tconst</th>\n",
       "      <th>averagerating</th>\n",
       "      <th>numvotes</th>\n",
       "    </tr>\n",
       "  </thead>\n",
       "  <tbody>\n",
       "    <tr>\n",
       "      <th>0</th>\n",
       "      <td>tt0000001</td>\n",
       "      <td>5.7</td>\n",
       "      <td>1953</td>\n",
       "    </tr>\n",
       "    <tr>\n",
       "      <th>1</th>\n",
       "      <td>tt0000002</td>\n",
       "      <td>5.8</td>\n",
       "      <td>264</td>\n",
       "    </tr>\n",
       "    <tr>\n",
       "      <th>2</th>\n",
       "      <td>tt0000005</td>\n",
       "      <td>6.2</td>\n",
       "      <td>2587</td>\n",
       "    </tr>\n",
       "    <tr>\n",
       "      <th>3</th>\n",
       "      <td>tt0000006</td>\n",
       "      <td>5.1</td>\n",
       "      <td>177</td>\n",
       "    </tr>\n",
       "    <tr>\n",
       "      <th>4</th>\n",
       "      <td>tt0000007</td>\n",
       "      <td>5.4</td>\n",
       "      <td>812</td>\n",
       "    </tr>\n",
       "  </tbody>\n",
       "</table>\n",
       "</div>"
      ],
      "text/plain": [
       "      tconst  averagerating  numvotes\n",
       "0  tt0000001            5.7      1953\n",
       "1  tt0000002            5.8       264\n",
       "2  tt0000005            6.2      2587\n",
       "3  tt0000006            5.1       177\n",
       "4  tt0000007            5.4       812"
      ]
     },
     "execution_count": 36,
     "metadata": {},
     "output_type": "execute_result"
    }
   ],
   "source": [
    "ratings.head()"
   ]
  },
  {
   "cell_type": "markdown",
   "id": "681c15ab-ca8e-47a1-8023-f66827aa7419",
   "metadata": {
    "tags": []
   },
   "source": [
    "<h1 style=\"color:green\"><b>Saving Data</b> </h1>"
   ]
  },
  {
   "cell_type": "markdown",
   "id": "6afdc6af-9404-45c4-bff4-89cddda6a515",
   "metadata": {
    "tags": []
   },
   "source": [
    "## Make directory "
   ]
  },
  {
   "cell_type": "code",
   "execution_count": 37,
   "id": "e484b6fa-418d-4e5b-bc34-2966081bce58",
   "metadata": {},
   "outputs": [
    {
     "data": {
      "text/plain": [
       "['title_akas.csv.gz', 'title_basics.csv.gz', 'title_ratings.csv.gz']"
      ]
     },
     "execution_count": 37,
     "metadata": {},
     "output_type": "execute_result"
    }
   ],
   "source": [
    "# create directory \n",
    "os.makedirs('clean data/',exist_ok=True) \n",
    "\n",
    "# Confirm folder created\n",
    "os.listdir(\"clean data/\")"
   ]
  },
  {
   "cell_type": "markdown",
   "id": "13664a5e-6fa9-4c19-ba14-80ce23097938",
   "metadata": {
    "tags": []
   },
   "source": [
    "## Save data "
   ]
  },
  {
   "cell_type": "code",
   "execution_count": 38,
   "id": "d80337b0-9058-4a0d-99a6-b8b3b687957c",
   "metadata": {},
   "outputs": [
    {
     "name": "stdout",
     "output_type": "stream",
     "text": [
      "CPU times: total: 13.8 s\n",
      "Wall time: 14.5 s\n"
     ]
    }
   ],
   "source": [
    "%%time \n",
    "\n",
    "## Save akas file \n",
    "akas.to_csv(\"clean data/title_akas.csv.gz\",compression='gzip',index=False)\n",
    "\n",
    "# Save basics file \n",
    "basics.to_csv(\"clean data/title_basics.csv.gz\",compression='gzip',index=False)\n",
    "\n",
    "# save ratings file \n",
    "ratings.to_csv(\"clean data/title_ratings.csv.gz\",compression='gzip',index=False)"
   ]
  }
 ],
 "metadata": {
  "kernelspec": {
   "display_name": "Python (dojo-env)",
   "language": "python",
   "name": "dojo-env"
  },
  "language_info": {
   "codemirror_mode": {
    "name": "ipython",
    "version": 3
   },
   "file_extension": ".py",
   "mimetype": "text/x-python",
   "name": "python",
   "nbconvert_exporter": "python",
   "pygments_lexer": "ipython3",
   "version": "3.9.15"
  },
  "toc": {
   "base_numbering": 1,
   "nav_menu": {},
   "number_sections": true,
   "sideBar": true,
   "skip_h1_title": true,
   "title_cell": "Table of Contents",
   "title_sidebar": "Contents",
   "toc_cell": false,
   "toc_position": {
    "height": "calc(100% - 180px)",
    "left": "10px",
    "top": "150px",
    "width": "239.176px"
   },
   "toc_section_display": true,
   "toc_window_display": true
  },
  "toc-autonumbering": true
 },
 "nbformat": 4,
 "nbformat_minor": 5
}
