{
 "cells": [
  {
   "cell_type": "markdown",
   "id": "225629a9-8ade-4aba-b502-a75a0e7e092a",
   "metadata": {},
   "source": [
    "<h1 style=\"color:green; font-size:30px; font-weight:700; text-align:center\">\n",
    "    <u><b>Part 2: TMDB Api</b></u>  \n",
    "</h1> \n",
    "\n",
    "<p></p> \n",
    "<strong> Author:</strong> Gurtej Bains <br> \n",
    "<strong> Data Source:</strong> https://www.imdb.com/interfaces/  <br> \n",
    "<strong> Last Updated: </strong>  <br>  \n",
    "<strong> Problem Statement:</strong> <br>\n",
    "\n",
    "\n"
   ]
  },
  {
   "cell_type": "code",
   "execution_count": null,
   "id": "2c7dd366-2a29-4766-98ca-51b9eb4f6d13",
   "metadata": {},
   "outputs": [],
   "source": []
  },
  {
   "cell_type": "code",
   "execution_count": null,
   "id": "bb6bf8ba-4e10-438b-87f9-0eb3b749378e",
   "metadata": {},
   "outputs": [],
   "source": []
  },
  {
   "cell_type": "code",
   "execution_count": null,
   "id": "127b85a1-1d03-42b9-9d41-91ba88775f60",
   "metadata": {},
   "outputs": [],
   "source": []
  },
  {
   "cell_type": "code",
   "execution_count": null,
   "id": "567ac598-d221-4cec-9d35-93627a3a0772",
   "metadata": {},
   "outputs": [],
   "source": []
  },
  {
   "cell_type": "code",
   "execution_count": null,
   "id": "f9e3ab8d-a6d5-4e6c-bad6-8a7ae04a8e52",
   "metadata": {},
   "outputs": [],
   "source": []
  },
  {
   "cell_type": "code",
   "execution_count": null,
   "id": "84847d2b-6255-4000-9110-f0c38122ac1c",
   "metadata": {},
   "outputs": [],
   "source": []
  },
  {
   "cell_type": "code",
   "execution_count": null,
   "id": "06ddfad9-1eae-46c4-9917-3891fa69b300",
   "metadata": {},
   "outputs": [],
   "source": []
  }
 ],
 "metadata": {
  "kernelspec": {
   "display_name": "Python (dojo-env)",
   "language": "python",
   "name": "dojo-env"
  },
  "language_info": {
   "codemirror_mode": {
    "name": "ipython",
    "version": 3
   },
   "file_extension": ".py",
   "mimetype": "text/x-python",
   "name": "python",
   "nbconvert_exporter": "python",
   "pygments_lexer": "ipython3",
   "version": "3.9.15"
  }
 },
 "nbformat": 4,
 "nbformat_minor": 5
}
